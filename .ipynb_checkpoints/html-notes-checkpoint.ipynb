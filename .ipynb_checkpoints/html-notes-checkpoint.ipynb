{
 "cells": [
  {
   "cell_type": "markdown",
   "id": "94c449f5-d9dd-461d-8277-28409996bc55",
   "metadata": {},
   "source": [
    "# HTML Notes\n",
    "***"
   ]
  },
  {
   "cell_type": "markdown",
   "id": "7ba8542d-83ae-4c19-989b-da0bbca09ee5",
   "metadata": {},
   "source": [
    "## __1. HTML Structure__"
   ]
  },
  {
   "cell_type": "markdown",
   "id": "d167e4a7-5fbe-43cb-8c02-bc47b9dac776",
   "metadata": {},
   "source": [
    "__<p>HTML is the standard language for creating web pages. It uses a series of elements represented by tags, like this: </p>__"
   ]
  },
  {
   "cell_type": "markdown",
   "id": "21bf77b6-3945-49cb-bcea-ff13104e0388",
   "metadata": {},
   "source": [
    "```\n",
    "<!DOCTYPE html>\n",
    "<html>\n",
    "    <head>\n",
    "        <title>Page Title</title>\n",
    "    </head>\n",
    "    <body>\n",
    "        <h1>This is a Heading</h1>\n",
    "        <p>This is a paragraph.</p>\n",
    "    </body>\n",
    "</html>"
   ]
  },
  {
   "cell_type": "markdown",
   "id": "43728aec-d273-4fdb-bbf7-45d8600775dd",
   "metadata": {},
   "source": [
    "### __Key Elements__"
   ]
  },
  {
   "cell_type": "markdown",
   "id": "3dcd9e60-1d83-484c-913b-e12e7b74998c",
   "metadata": {},
   "source": [
    "```\n",
    "<<!DOCTYPE html> Declares the document as HTML5.\n",
    "\n",
    "<html> The root element of the HTML document.\n",
    "\n",
    "<head> Contains meta-information about the document (e.g., title, links to stylesheets).\n",
    "\n",
    "<body> Contains the content of the document.\n",
    "```\n",
    "***"
   ]
  },
  {
   "cell_type": "markdown",
   "id": "a93a0eee-b75b-4891-acad-54cab93357cf",
   "metadata": {},
   "source": [
    "## __2. Common HTML Tags__"
   ]
  },
  {
   "cell_type": "markdown",
   "id": "90d14922-0b55-4bb2-9d04-af8d2556d6bd",
   "metadata": {},
   "source": [
    "#### __Headings__"
   ]
  },
  {
   "cell_type": "markdown",
   "id": "c2dc87c6-222b-45b6-b1df-14b8da102220",
   "metadata": {},
   "source": [
    "```\n",
    "<p>HTML offerrs six levels of headings, from <h1> to <h6>, where <h1> is the highest(or most important) level.\n",
    "\n",
    "```\n"
   ]
  },
  {
   "cell_type": "markdown",
   "id": "6ba54919",
   "metadata": {},
   "source": [
    "```\n",
    "<h1>Main Heading</h1>\n",
    "<h2>Subheading</h2>\n",
    "<h3>Sub-subheading</h3>"
   ]
  },
  {
   "cell_type": "markdown",
   "id": "e4cc5f0b",
   "metadata": {},
   "source": [
    "#### __Paragraphs__"
   ]
  },
  {
   "cell_type": "markdown",
   "metadata": {},
   "source": [
    "```\n",
    "Paragraphs are created using the <p> tag.\n",
    "\n",
    "```\n",
    "<p>This is a paragraph.</p>"
   ]
  },
  {
   "cell_type": "markdown",
   "id": "1e9e3859-60aa-4c5a-a1bf-5a6e53db40cc",
   "metadata": {},
   "source": [
    "#### __Links__"
   ]
  },
  {
   "cell_type": "markdown",
   "id": "82d079f3",
   "metadata": {},
   "source": [
    "```\n",
    "Links are created with the <a> tag, which indicated an href attribute to specify the URL.\n",
    "\n",
    "<a href=\"https://example.com\">Click here</a>"
   ]
  },
  {
   "cell_type": "markdown",
   "id": "41222827",
   "metadata": {},
   "source": [
    "<a href=\"https://en.wikipedia.org/wiki/Giraffe\">Giraffes</a>"
   ]
  },
  {
   "cell_type": "markdown",
   "id": "955cdaa5",
   "metadata": {},
   "source": [
    "#### __Images__"
   ]
  },
  {
   "cell_type": "markdown",
   "id": "fbd24a5a",
   "metadata": {},
   "source": [
    "```\n",
    "Images are embedded using the <img> tag with src and alt attributes.\n",
    "\n",
    "<img src=\"image.jpg\" alt=Description of image\">\n",
    "```"
   ]
  },
  {
   "cell_type": "markdown",
   "id": "80c18783",
   "metadata": {},
   "source": [
    "<img src=\"https://animals.sandiegozoo.org/sites/default/files/2016-11/animals_hero_giraffe_1_0.jpg\" alt=Picture of a Giraffe\">"
   ]
  },
  {
   "cell_type": "markdown",
   "id": "ca9d3db7",
   "metadata": {},
   "source": [
    "#### __Links__"
   ]
  },
  {
   "cell_type": "markdown",
   "id": "2ccaaf85",
   "metadata": {},
   "source": [
    "```\n",
    "There are two main types of lists: ordered <ol> and unordered <ul>. An unordered list will have dots or a decorator at the beginning of the list, while a ordered list will be numbered."
   ]
  },
  {
   "cell_type": "markdown",
   "id": "9bff1c5d",
   "metadata": {},
   "source": [
    "__Unordered List__\n",
    "```\n",
    "<ul>\n",
    "  <li>Item 1</li>\n",
    "  <li>Item 2</li>\n",
    "  <li>Item 3</li>\n",
    "</ul>"
   ]
  },
  {
   "cell_type": "markdown",
   "id": "c4564f33",
   "metadata": {},
   "source": [
    "<ul>\n",
    "  <li>Basketball</li>\n",
    "  <li>Soccer</li>\n",
    "  <li>Tennis</li>"
   ]
  },
  {
   "cell_type": "markdown",
   "id": "3b1735b1",
   "metadata": {},
   "source": [
    "__Ordered List__\n",
    "```\n",
    "<ol>\n",
    "  <li>First item</li>\n",
    "  <li>Second item</li>\n",
    "  <li>Third item</li>\n",
    "</ol>\n",
    "```\n"
   ]
  },
  {
   "cell_type": "markdown",
   "id": "f025e01c",
   "metadata": {},
   "source": [
    "<ol>\n",
    "  <li>Basketball</li>\n",
    "  <li>Soccer</li>\n",
    "  <li>Tennis</li>\n",
    "  \n",
    "  ***"
   ]
  },
  {
   "cell_type": "markdown",
   "id": "3ff3fa74",
   "metadata": {},
   "source": [
    "## __3. Attributes__"
   ]
  },
  {
   "cell_type": "markdown",
   "id": "f46dc453",
   "metadata": {},
   "source": [
    "<p>HTML elements can have attributes, which provide additional information about the element. Attributes are always defined in the opening tag and usually come in name/value pairs. There are many different types of attributes that can be applied to HTML tags.\n",
    "\n",
    "__Example:__\n",
    "```\n",
    "<a href=\"https://example.com\" target=\"_blank\">Link</a>\n",
    "\n",
    "href = Specifies the link's destination.\n",
    "target=\"_blank\" = Opens the link in a new tab.\n"
   ]
  },
  {
   "cell_type": "markdown",
   "id": "bbbbdece",
   "metadata": {},
   "source": [
    "***"
   ]
  },
  {
   "cell_type": "markdown",
   "id": "27eb4779",
   "metadata": {},
   "source": [
    "## __4. Divs & Spans__"
   ]
  },
  {
   "cell_type": "markdown",
   "id": "c5ce1136",
   "metadata": {},
   "source": [
    "```\n",
    "<div> Defines a division or section in an HTML document. It's often used to group elements for styling or layout.\n",
    "\n",
    "<span> An inline container used to group content for styling or scripting."
   ]
  },
  {
   "cell_type": "markdown",
   "id": "6c0f9323",
   "metadata": {},
   "source": [
    "__Example__\n",
    "```\n",
    "<div>\n",
    "  <h1>Title</h1>\n",
    "  <p>This is inside a div.</p>\n",
    "</div>\n",
    "\n",
    "<span>This is inside a span.</span>"
   ]
  },
  {
   "cell_type": "markdown",
   "id": "b26109aa",
   "metadata": {},
   "source": [
    "***"
   ]
  },
  {
   "cell_type": "markdown",
   "id": "55579613",
   "metadata": {},
   "source": [
    "## __5. Forms__"
   ]
  },
  {
   "cell_type": "markdown",
   "id": "e8c1c07c",
   "metadata": {},
   "source": [
    "<p>HTML forms collect user input. A form usually contains input, textarea, select, and button elements.</p>"
   ]
  },
  {
   "cell_type": "markdown",
   "id": "38cdc34a",
   "metadata": {},
   "source": [
    "```\n",
    "<form action=\"/submit\" method=\"post\">\n",
    "  <label for=\"name\">Name:</label>\n",
    "  <input type=\"text\" id=\"name\" name=\"name>\n",
    "  <input type=\"submit\" value=\"Submit\">\n",
    "</form>\n",
    "\n",
    "action = URL to send form data to.\n",
    "method = Specifies how to send form data (get or post)"
   ]
  },
  {
   "cell_type": "markdown",
   "id": "8ccfd603",
   "metadata": {},
   "source": [
    "***"
   ]
  },
  {
   "cell_type": "markdown",
   "id": "87e62f73",
   "metadata": {},
   "source": [
    "## __6. Semantic HTML__"
   ]
  },
  {
   "cell_type": "markdown",
   "id": "7a85846c",
   "metadata": {},
   "source": [
    "<p>HTML5 introduced new semantic elements to provide better meaning to web pages. This is for better code reliability, accessibility for those living with disabilities and many other benefits.</p>"
   ]
  },
  {
   "cell_type": "markdown",
   "id": "196a28c1",
   "metadata": {},
   "source": [
    "```\n",
    "<header> = Defines a header section.\n",
    "\n",
    "<nav> = Defines a navigation bar.\n",
    "\n",
    "<section> = Defines a section in a document.\n",
    "\n",
    "<article> = Defines independent content.\n",
    "\n",
    "<footer> = Defines a footer for a document or section.\n",
    "```"
   ]
  },
  {
   "cell_type": "markdown",
   "id": "fe60f359",
   "metadata": {},
   "source": [
    "__Examples of Semantic HTML__"
   ]
  },
  {
   "cell_type": "markdown",
   "id": "3fb1d8d2",
   "metadata": {},
   "source": [
    "```\n",
    "<header>\n",
    "  <h1>Welcome to My Website</h1>\n",
    "</header>\n",
    "\n",
    "<nav>\n",
    "  <a href=\"/home\">Home</a>\n",
    "  <a href=\"/about\">About</a>\n",
    "</nav>\n",
    "\n",
    "<section>\n",
    "  <article>\n",
    "    <h2>Blog Post Title</h2>\n",
    "    <p>Blog content goes here...</p>\n",
    "  </article>\n",
    "</section>\n",
    "\n",
    "<footer>\n",
    "  <p>Footer content goes here.</p>\n",
    "</footer>"
   ]
  },
  {
   "cell_type": "markdown",
   "id": "8d515b95",
   "metadata": {},
   "source": [
    "***"
   ]
  },
  {
   "cell_type": "markdown",
   "id": "d139f4e9",
   "metadata": {},
   "source": [
    "# __CSS Notes__"
   ]
  },
  {
   "cell_type": "markdown",
   "id": "150545d3",
   "metadata": {},
   "source": [
    "### __1. What is CSS?__"
   ]
  },
  {
   "cell_type": "markdown",
   "id": "9cc8261b",
   "metadata": {},
   "source": [
    "<p>CSS (Cascading Style Sheets) is a language used to describe the presentation of a web page written in HTML. It controls the layout, colors, fonts, and overall visual appearance of web pages."
   ]
  },
  {
   "cell_type": "markdown",
   "id": "58266345",
   "metadata": {},
   "source": [
    "#### __CSS Syntax__"
   ]
  },
  {
   "cell_type": "markdown",
   "id": "874e352e",
   "metadata": {},
   "source": [
    "<p>A CSS rule consists of a selector and a declaration block:"
   ]
  },
  {
   "cell_type": "markdown",
   "id": "8fcfb4f5",
   "metadata": {},
   "source": [
    "```\n",
    "selector {\n",
    "    property: value;\n",
    "}"
   ]
  },
  {
   "cell_type": "markdown",
   "id": "19ba4aea",
   "metadata": {},
   "source": [
    "```\n",
    "1. Selector: Specifies the HTML element(s) you want to style.\n",
    "2. Property: The style attribute you want to change (e.g., color, font-size).\n",
    "3. Value: The value of the property (e.g., blue, 16px)."
   ]
  },
  {
   "cell_type": "markdown",
   "id": "21eaa884",
   "metadata": {},
   "source": [
    "__Example:__"
   ]
  },
  {
   "cell_type": "markdown",
   "id": "0c3a69e1",
   "metadata": {},
   "source": [
    "```\n",
    "p{\n",
    "    color: blue;\n",
    "    font-size: 14px;\n",
    "}"
   ]
  },
  {
   "cell_type": "markdown",
   "id": "0d1f84d3",
   "metadata": {},
   "source": [
    "```\n",
    "This styles all <p> elements to have blue text and a font-size of 14 pixels."
   ]
  },
  {
   "cell_type": "markdown",
   "id": "6c87c374",
   "metadata": {},
   "source": [
    "### __2. Adding CSS to HTML using External CSS__"
   ]
  },
  {
   "cell_type": "markdown",
   "id": "68355308",
   "metadata": {},
   "source": [
    "***"
   ]
  },
  {
   "cell_type": "markdown",
   "id": "6cde3f58",
   "metadata": {},
   "source": [
    "#### __External CSS__"
   ]
  },
  {
   "cell_type": "markdown",
   "id": "7c784716",
   "metadata": {},
   "source": [
    "```\n",
    "Uses an external .css file linked with the <link> tag.\n",
    "\n",
    "<head>\n",
    "  <link rel=\"stylesheet\" href=\"styles.css\">\n",
    "</head>"
   ]
  },
  {
   "cell_type": "markdown",
   "id": "055113f3",
   "metadata": {},
   "source": [
    "### __3. CSS Selectors__"
   ]
  },
  {
   "cell_type": "markdown",
   "id": "a3db3fbd",
   "metadata": {},
   "source": [
    "***"
   ]
  },
  {
   "cell_type": "markdown",
   "id": "5f194d4c",
   "metadata": {},
   "source": [
    "#### __Element Selector__"
   ]
  },
  {
   "cell_type": "markdown",
   "id": "a012728c",
   "metadata": {},
   "source": [
    "```\n",
    "Selects all elements of a given type.\n",
    "\n",
    "h1 {\n",
    "    color: red;\n",
    "}"
   ]
  },
  {
   "cell_type": "markdown",
   "id": "08296228",
   "metadata": {},
   "source": [
    "***"
   ]
  },
  {
   "cell_type": "markdown",
   "id": "83ceeb04",
   "metadata": {},
   "source": [
    "#### __Class Selector__"
   ]
  },
  {
   "cell_type": "markdown",
   "id": "68b76b94",
   "metadata": {},
   "source": [
    "```\n",
    "Selects elements with a specific class attribute. Use a period . followed by the class name.\n",
    "\n",
    ".intro {\n",
    "    font-size: 16px;\n",
    "}\n",
    "A class selector must be paired with creating the class in an html file.\n",
    "<p class=\"intro\">This is an introductory paragraph.</p>\n"
   ]
  },
  {
   "cell_type": "markdown",
   "id": "42528878",
   "metadata": {},
   "source": [
    "***"
   ]
  },
  {
   "cell_type": "markdown",
   "id": "bb52bc48",
   "metadata": {},
   "source": [
    "### __ID Selector__"
   ]
  },
  {
   "cell_type": "markdown",
   "id": "c95cb838",
   "metadata": {},
   "source": [
    "<p>Selects an element with a specific id attribute. Use a hash # followed by the id name."
   ]
  },
  {
   "cell_type": "markdown",
   "id": "4fd3d163",
   "metadata": {},
   "source": [
    "```\n",
    "#main {\n",
    "    width: 960px;\n",
    "}\n",
    "\n",
    "An ID selector must be paired with creating the ID in an html file. An ID is used to select a very specific html element. We can use them with classes to further differentiate among elements.\n",
    "\n",
    "<div id=\"main\">This is the main content area.</div>"
   ]
  },
  {
   "cell_type": "markdown",
   "id": "b4c3cebf",
   "metadata": {},
   "source": [
    "#### __Universal Selector__"
   ]
  },
  {
   "cell_type": "markdown",
   "id": "8194abf2",
   "metadata": {},
   "source": [
    "<p>Selects all elements.</p>"
   ]
  },
  {
   "cell_type": "markdown",
   "id": "7f5f481e",
   "metadata": {},
   "source": [
    "```\n",
    "* {\n",
    "    margin: 0;\n",
    "    padding: 0;\n",
    "}"
   ]
  },
  {
   "cell_type": "markdown",
   "id": "8d6fc28b",
   "metadata": {},
   "source": [
    "***"
   ]
  },
  {
   "cell_type": "markdown",
   "id": "f64f8963",
   "metadata": {},
   "source": [
    "### __Grouping Selectors__"
   ]
  },
  {
   "cell_type": "markdown",
   "id": "98ef0c7a",
   "metadata": {},
   "source": [
    "```\n",
    "Applies the same styles to multiple selectors.\n",
    "\n",
    "h1, h2, h3 {\n",
    "    color: navy;\n",
    "}"
   ]
  },
  {
   "cell_type": "markdown",
   "id": "9671b922",
   "metadata": {},
   "source": [
    "***"
   ]
  },
  {
   "cell_type": "markdown",
   "id": "65c889cc",
   "metadata": {},
   "source": [
    "## __4. Common CSS Properties__"
   ]
  },
  {
   "cell_type": "markdown",
   "id": "fab86e63",
   "metadata": {},
   "source": [
    "***"
   ]
  },
  {
   "cell_type": "markdown",
   "id": "7c44ef80",
   "metadata": {},
   "source": [
    "#### __Text Properties__"
   ]
  },
  {
   "cell_type": "markdown",
   "id": "665f06b2",
   "metadata": {},
   "source": [
    "```\n",
    "color: Sets the color of the text.\n",
    "\n",
    "p {\n",
    "    color: #333333;\n",
    "}"
   ]
  },
  {
   "cell_type": "markdown",
   "id": "7adee24d",
   "metadata": {},
   "source": [
    "***"
   ]
  },
  {
   "cell_type": "markdown",
   "id": "68038c02",
   "metadata": {},
   "source": [
    "```\n",
    "font-size: Sets the size of the font.\n",
    "\n",
    "p {\n",
    "    font-size: 14px;\n",
    "}"
   ]
  },
  {
   "cell_type": "markdown",
   "id": "5f76be49",
   "metadata": {},
   "source": [
    "***"
   ]
  },
  {
   "cell_type": "markdown",
   "id": "481b1171",
   "metadata": {},
   "source": [
    "```\n",
    "font-family: Specifies the font of the text.\n",
    "\n",
    "p {\n",
    "    font-family: Arial, sans-serif;\n",
    "}"
   ]
  },
  {
   "cell_type": "markdown",
   "id": "3eefefd3",
   "metadata": {},
   "source": [
    "***"
   ]
  },
  {
   "cell_type": "markdown",
   "id": "0828bd58",
   "metadata": {},
   "source": [
    "```\n",
    "font-weight: Sets the weight (boldness) of the font.\n",
    "\n",
    "p {\n",
    "    font-weight: bold;\n",
    "}"
   ]
  },
  {
   "cell_type": "markdown",
   "id": "e1e6733a",
   "metadata": {},
   "source": [
    "***"
   ]
  },
  {
   "cell_type": "markdown",
   "id": "648d94d6",
   "metadata": {},
   "source": [
    "```\n",
    "text-align: Aligns the text horizontally.\n",
    "\n",
    "p{\n",
    "    text-align: center;\n",
    "}"
   ]
  },
  {
   "cell_type": "markdown",
   "id": "e600921a",
   "metadata": {},
   "source": [
    "***"
   ]
  },
  {
   "cell_type": "markdown",
   "id": "788f537a",
   "metadata": {},
   "source": [
    "### __Background Properties__"
   ]
  },
  {
   "cell_type": "markdown",
   "id": "83daf0d6",
   "metadata": {},
   "source": [
    "```\n",
    "background-color: Sets the background color of an element.\n",
    "\n",
    "body {\n",
    "    background-color: #f0f0f0;\n",
    "}"
   ]
  },
  {
   "cell_type": "markdown",
   "id": "85764664",
   "metadata": {},
   "source": [
    "***"
   ]
  },
  {
   "cell_type": "markdown",
   "id": "7330c1bc",
   "metadata": {},
   "source": [
    "```\n",
    "background-image: Sets a background image for an element.\n",
    "\n",
    "body {\n",
    "    background-image: url('background.jpg');\n",
    "}"
   ]
  },
  {
   "cell_type": "markdown",
   "id": "61b9969e",
   "metadata": {},
   "source": [
    "***"
   ]
  },
  {
   "cell_type": "markdown",
   "id": "868726c0",
   "metadata": {},
   "source": [
    "#### __Box Model Properties__"
   ]
  },
  {
   "cell_type": "markdown",
   "id": "b74fa1b5",
   "metadata": {},
   "source": [
    "```\n",
    "The CSS box model consists of margins, borders, padding, and the content area.\n",
    "\n",
    "width and height: Set the size of the content area.\n",
    "\n",
    "div {\n",
    "    width: 200px;\n",
    "    height: 100px;\n",
    "}"
   ]
  },
  {
   "cell_type": "markdown",
   "id": "cad778cd",
   "metadata": {},
   "source": [
    "***"
   ]
  },
  {
   "cell_type": "markdown",
   "id": "f08ff806",
   "metadata": {},
   "source": [
    "```\n",
    "padding: Sets the space between the content and the border.\n",
    "\n",
    "div {\n",
    "    padding 10px;\n",
    "}"
   ]
  },
  {
   "cell_type": "markdown",
   "id": "9bfebf1b",
   "metadata": {},
   "source": [
    "***"
   ]
  },
  {
   "cell_type": "markdown",
   "id": "9cb55bd4",
   "metadata": {},
   "source": [
    "```\n",
    "border: Sets the border around an element.\n",
    "\n",
    "div {\n",
    "    border: 1px solid #000;\n",
    "}"
   ]
  },
  {
   "cell_type": "markdown",
   "id": "4bcc82f3",
   "metadata": {},
   "source": [
    "***"
   ]
  },
  {
   "cell_type": "markdown",
   "id": "2d1f46a6",
   "metadata": {},
   "source": [
    "```\n",
    "margin: Sets the space outside the border.\n",
    "\n",
    "div {\n",
    "    margin: 20px;\n",
    "}"
   ]
  },
  {
   "cell_type": "markdown",
   "id": "c9d16c55",
   "metadata": {},
   "source": [
    "***"
   ]
  },
  {
   "cell_type": "markdown",
   "id": "60b222d5",
   "metadata": {},
   "source": [
    "### __Display and Visibility__"
   ]
  },
  {
   "cell_type": "markdown",
   "id": "daf4dbbf",
   "metadata": {},
   "source": [
    "<p>display: Specifies the display behavior of an element."
   ]
  },
  {
   "cell_type": "markdown",
   "id": "73d73776",
   "metadata": {},
   "source": [
    "```\n",
    ".inline {\n",
    "    display: inline;\n",
    "}\n",
    "\n",
    ".block {\n",
    "    display: block;\n",
    "}\n",
    "\n",
    ".none {\n",
    "    display: none; /*Hides the element*/\n",
    "}"
   ]
  },
  {
   "cell_type": "markdown",
   "id": "d770b43c",
   "metadata": {},
   "source": [
    "***"
   ]
  },
  {
   "cell_type": "markdown",
   "id": "3010a7cf",
   "metadata": {},
   "source": [
    "```\n",
    "visibility: Controls the visibility of an element.\n",
    "\n",
    ".invisible {\n",
    "    visibility: hidden; /* Element takes up space but is not visible */\n",
    "}"
   ]
  },
  {
   "cell_type": "markdown",
   "id": "f5d1d0a5",
   "metadata": {},
   "source": [
    "***"
   ]
  },
  {
   "cell_type": "markdown",
   "id": "6952e423",
   "metadata": {},
   "source": [
    "## __5. CSS Flexbox__"
   ]
  },
  {
   "cell_type": "markdown",
   "id": "6469e899",
   "metadata": {},
   "source": [
    "***"
   ]
  },
  {
   "cell_type": "markdown",
   "id": "c998189e",
   "metadata": {},
   "source": [
    "<p>Flexbox is a layout mode in CSS designed to provide a more efficient way to lay out, align, and distribute space among items in a container."
   ]
  },
  {
   "cell_type": "markdown",
   "id": "147e9567",
   "metadata": {},
   "source": [
    "### __Setting Up a Flex Container__"
   ]
  },
  {
   "cell_type": "markdown",
   "id": "24b888f4",
   "metadata": {},
   "source": [
    "```\n",
    ".container {\n",
    "    display: flex;\n",
    "}"
   ]
  },
  {
   "cell_type": "markdown",
   "id": "448efc25",
   "metadata": {},
   "source": [
    "***"
   ]
  },
  {
   "cell_type": "markdown",
   "id": "8790fc57",
   "metadata": {},
   "source": [
    "### __Flex Direction__"
   ]
  },
  {
   "cell_type": "markdown",
   "id": "ded2107c",
   "metadata": {},
   "source": [
    "<p>Specifies the direction of the flex items."
   ]
  },
  {
   "cell_type": "markdown",
   "id": "6b250408",
   "metadata": {},
   "source": [
    "```\n",
    ".container {\n",
    "    flex-direction: row; /* row, row-reverse, column, column-reverse */\n",
    "}"
   ]
  },
  {
   "cell_type": "markdown",
   "id": "31ee9b84",
   "metadata": {},
   "source": [
    "***"
   ]
  },
  {
   "cell_type": "markdown",
   "id": "e8c1f4b8",
   "metadata": {},
   "source": [
    "### __Justify Content__"
   ]
  },
  {
   "cell_type": "markdown",
   "id": "230e9b70",
   "metadata": {},
   "source": [
    "<p>Aligns items along the main axis."
   ]
  },
  {
   "cell_type": "markdown",
   "id": "280f3a79",
   "metadata": {},
   "source": [
    "```\n",
    ".container {\n",
    "    justify-content: center; /* flex-start, flex-end, center, space-between, space around */\n",
    "}"
   ]
  },
  {
   "cell_type": "markdown",
   "id": "bfa9113e",
   "metadata": {},
   "source": [
    "***"
   ]
  },
  {
   "cell_type": "markdown",
   "id": "df8dc50d",
   "metadata": {},
   "source": [
    "### __Align Items__"
   ]
  },
  {
   "cell_type": "markdown",
   "id": "2c691e84",
   "metadata": {},
   "source": [
    "<p>Aligns items along the cross axis."
   ]
  },
  {
   "cell_type": "markdown",
   "id": "75104a39",
   "metadata": {},
   "source": [
    "```\n",
    ".container {\n",
    "    align-items: centger; /* stretch, flex-start, flex-end, center, baseline */\n",
    "}"
   ]
  },
  {
   "cell_type": "markdown",
   "id": "0f27a0cb",
   "metadata": {},
   "source": [
    "***"
   ]
  },
  {
   "cell_type": "markdown",
   "id": "0b2f1da2",
   "metadata": {},
   "source": [
    "### __Flex Wrap__"
   ]
  },
  {
   "cell_type": "markdown",
   "id": "ee59118f",
   "metadata": {},
   "source": [
    "<p>Allows flex items to wrap onto multiple lines."
   ]
  },
  {
   "cell_type": "markdown",
   "id": "650b4891",
   "metadata": {},
   "source": [
    "```\n",
    ".container {\n",
    "    flex-wrap: wrap; /* nowrap, wrap-reverse */\n",
    "}"
   ]
  },
  {
   "cell_type": "markdown",
   "id": "8dd0f4f7",
   "metadata": {},
   "source": [
    "***"
   ]
  },
  {
   "cell_type": "markdown",
   "id": "68112d1c",
   "metadata": {},
   "source": [
    "### __Flex Item Properties__"
   ]
  },
  {
   "cell_type": "markdown",
   "id": "0922ee3c",
   "metadata": {},
   "source": [
    "<p>flex-grow: Specifies how much a flex item will grow relative to the rest."
   ]
  },
  {
   "cell_type": "markdown",
   "id": "f5747613",
   "metadata": {},
   "source": [
    "```\n",
    ".item {\n",
    "    flex-grow: 1;\n",
    "}"
   ]
  },
  {
   "cell_type": "markdown",
   "id": "5a62e1b0",
   "metadata": {},
   "source": [
    "***"
   ]
  },
  {
   "cell_type": "markdown",
   "id": "cfb2ab46",
   "metadata": {},
   "source": [
    "<p>flex-shrink: Specifies how much a flex item will shrink relative to the rest."
   ]
  },
  {
   "cell_type": "markdown",
   "id": "5ef582e3",
   "metadata": {},
   "source": [
    "```\n",
    ".item {\n",
    "    flex-shrink: 1;\n",
    "}"
   ]
  },
  {
   "cell_type": "markdown",
   "id": "82c0bede",
   "metadata": {},
   "source": [
    "***"
   ]
  },
  {
   "cell_type": "markdown",
   "id": "9c6806b5",
   "metadata": {},
   "source": [
    "## __Example Flexbox Layout__"
   ]
  },
  {
   "cell_type": "markdown",
   "id": "d1074b57",
   "metadata": {},
   "source": [
    "### __HTML:__"
   ]
  },
  {
   "cell_type": "markdown",
   "id": "95cb6544",
   "metadata": {},
   "source": [
    "```\n",
    "<div class=\"container\">\n",
    "  <div class=\"item\">Item 1</div>\n",
    "  <div class=\"item\">Item 2</div>\n",
    "  <div class=\"item\">Item 3</div>\n",
    "</div>"
   ]
  },
  {
   "cell_type": "markdown",
   "id": "2d6c1203",
   "metadata": {},
   "source": [
    "### __CSS__"
   ]
  },
  {
   "cell_type": "markdown",
   "id": "7537facd",
   "metadata": {},
   "source": [
    "```\n",
    ".container {\n",
    "    display: flex;\n",
    "    flex-direction: row;\n",
    "    justify-content: space-between;\n",
    "    align-items: center;\n",
    "}\n",
    "\n",
    ".item {\n",
    "    background-color: lightblue;\n",
    "    padding: 20px;\n",
    "    margin: 10px;\n",
    "    flex: 1;\n",
    "}"
   ]
  },
  {
   "cell_type": "markdown",
   "id": "cb2c5499",
   "metadata": {},
   "source": [
    "<p>This craetes a responsive layout where items are evenly spaced and aligned."
   ]
  }
 ],
 "metadata": {
  "kernelspec": {
   "display_name": "Python 3 (ipykernel)",
   "language": "python",
   "name": "python3"
  },
  "language_info": {
   "codemirror_mode": {
    "name": "ipython",
    "version": 3
   },
   "file_extension": ".py",
   "mimetype": "text/x-python",
   "name": "python",
   "nbconvert_exporter": "python",
   "pygments_lexer": "ipython3",
   "version": "3.12.1"
  }
 },
 "nbformat": 4,
 "nbformat_minor": 5
}
