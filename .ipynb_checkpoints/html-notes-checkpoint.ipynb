{
 "cells": [
  {
   "cell_type": "markdown",
   "id": "94c449f5-d9dd-461d-8277-28409996bc55",
   "metadata": {},
   "source": [
    "# HTML Notes\n",
    "***"
   ]
  },
  {
   "cell_type": "markdown",
   "id": "7ba8542d-83ae-4c19-989b-da0bbca09ee5",
   "metadata": {},
   "source": [
    "## __1. HTML Structure__"
   ]
  },
  {
   "cell_type": "markdown",
   "id": "d167e4a7-5fbe-43cb-8c02-bc47b9dac776",
   "metadata": {},
   "source": [
    "__<p>HTML is the standard language for creating web pages. It uses a series of elements represented by tags, like this: </p>__"
   ]
  },
  {
   "cell_type": "markdown",
   "id": "21bf77b6-3945-49cb-bcea-ff13104e0388",
   "metadata": {},
   "source": [
    "```\n",
    "<!DOCTYPE html>\n",
    "<html>\n",
    "    <head>\n",
    "        <title>Page Title</title>\n",
    "    </head>\n",
    "    <body>\n",
    "        <h1>This is a Heading</h1>\n",
    "        <p>This is a paragraph.</p>\n",
    "    </body>\n",
    "</html>"
   ]
  },
  {
   "cell_type": "markdown",
   "id": "43728aec-d273-4fdb-bbf7-45d8600775dd",
   "metadata": {},
   "source": [
    "### __Key Elements__"
   ]
  },
  {
   "cell_type": "markdown",
   "id": "3dcd9e60-1d83-484c-913b-e12e7b74998c",
   "metadata": {},
   "source": [
    "```\n",
    "<<!DOCTYPE html> Declares the document as HTML5.\n",
    "\n",
    "<html> The root element of the HTML document.\n",
    "\n",
    "<head> Contains meta-information about the document (e.g., title, links to stylesheets).\n",
    "\n",
    "<body> Contains the content of the document.\n",
    "```\n",
    "***"
   ]
  },
  {
   "cell_type": "markdown",
   "id": "a93a0eee-b75b-4891-acad-54cab93357cf",
   "metadata": {},
   "source": [
    "## __2. Common HTML Tags__"
   ]
  },
  {
   "cell_type": "markdown",
   "id": "90d14922-0b55-4bb2-9d04-af8d2556d6bd",
   "metadata": {},
   "source": [
    "#### __Headings__"
   ]
  },
  {
   "cell_type": "markdown",
   "id": "c2dc87c6-222b-45b6-b1df-14b8da102220",
   "metadata": {},
   "source": [
    "```\n",
    "<p>HTML offerrs six levels of headings, from <h1> to <h6>, where <h1> is the highest(or most important) level.\n",
    "\n",
    "```\n"
   ]
  },
  {
   "cell_type": "markdown",
   "id": "6ba54919",
   "metadata": {},
   "source": [
    "```\n",
    "<h1>Main Heading</h1>\n",
    "<h2>Subheading</h2>\n",
    "<h3>Sub-subheading</h3>"
   ]
  },
  {
   "cell_type": "markdown",
   "id": "e4cc5f0b",
   "metadata": {},
   "source": [
    "#### __Paragraphs__"
   ]
  },
  {
   "cell_type": "markdown",
   "metadata": {},
   "source": [
    "```\n",
    "Paragraphs are created using the <p> tag.\n",
    "\n",
    "```\n",
    "<p>This is a paragraph.</p>"
   ]
  },
  {
   "cell_type": "markdown",
   "id": "1e9e3859-60aa-4c5a-a1bf-5a6e53db40cc",
   "metadata": {},
   "source": [
    "#### __Links__"
   ]
  },
  {
   "cell_type": "markdown",
   "id": "82d079f3",
   "metadata": {},
   "source": [
    "```\n",
    "Links are created with the <a> tag, which indicated an href attribute to specify the URL.\n",
    "\n",
    "<a href=\"https://example.com\">Click here</a>"
   ]
  },
  {
   "cell_type": "markdown",
   "id": "955cdaa5",
   "metadata": {},
   "source": [
    "#### __Images__"
   ]
  },
  {
   "cell_type": "markdown",
   "id": "fbd24a5a",
   "metadata": {},
   "source": [
    "```\n",
    "Images are embedded using the <img> tag with src and alt attributes.\n",
    "\n",
    "<img src=\"image.jpg\" alt=Description of image\">\n",
    "```"
   ]
  },
  {
   "cell_type": "markdown",
   "id": "ca9d3db7",
   "metadata": {},
   "source": [
    "#### __Links__"
   ]
  },
  {
   "cell_type": "markdown",
   "id": "2ccaaf85",
   "metadata": {},
   "source": [
    "```\n",
    "There are two main types of lists: ordered <ol> and unordered <ul>. An unordered list will have dots or a decorator at the beginning of the list, while a ordered list will be numbered."
   ]
  },
  {
   "cell_type": "markdown",
   "id": "9bff1c5d",
   "metadata": {},
   "source": [
    "__Unordered List__\n",
    "```\n",
    "<ul>\n",
    "  <li>Item 1</li>\n",
    "  <li>Item 2</li>\n",
    "  <li>Item 3</li>\n",
    "</ul>"
   ]
  },
  {
   "cell_type": "markdown",
   "id": "3b1735b1",
   "metadata": {},
   "source": [
    "__Ordered List__\n",
    "```\n",
    "<ol>\n",
    "  <li>First item</li>\n",
    "  <li>Second item</li>\n",
    "  <li>Third item</li>\n",
    "</ol>\n",
    "```\n",
    "***"
   ]
  },
  {
   "cell_type": "markdown",
   "id": "3ff3fa74",
   "metadata": {},
   "source": [
    "## __3. Attributes__"
   ]
  },
  {
   "cell_type": "markdown",
   "id": "f46dc453",
   "metadata": {},
   "source": [
    "<p>HTML elements can have attributes, which provide additional information about the element. Attributes are always defined in the opening tag and usually come in name/value pairs. There are many different types of attributes that can be applied to HTML tags.\n",
    "\n",
    "__Example:__\n",
    "```\n",
    "<a href=\"https://example.com\" target=\"_blank\">Link</a>\n",
    "\n",
    "href = Specifies the link's destination.\n",
    "target=\"_blank\" = Opens the link in a new tab."
   ]
  },
  {
   "cell_type": "markdown",
   "id": "27eb4779",
   "metadata": {},
   "source": [
    "## __4. Divs & Spans__"
   ]
  }
 ],
 "metadata": {
  "kernelspec": {
   "display_name": "Python 3 (ipykernel)",
   "language": "python",
   "name": "python3"
  },
  "language_info": {
   "codemirror_mode": {
    "name": "ipython",
    "version": 3
   },
   "file_extension": ".py",
   "mimetype": "text/x-python",
   "name": "python",
   "nbconvert_exporter": "python",
   "pygments_lexer": "ipython3",
   "version": "3.12.1"
  }
 },
 "nbformat": 4,
 "nbformat_minor": 5
}
