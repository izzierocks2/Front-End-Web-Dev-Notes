{
 "cells": [
  {
   "cell_type": "markdown",
   "id": "94c449f5-d9dd-461d-8277-28409996bc55",
   "metadata": {},
   "source": [
    "# HTML Notes\n",
    "***"
   ]
  },
  {
   "cell_type": "markdown",
   "id": "7ba8542d-83ae-4c19-989b-da0bbca09ee5",
   "metadata": {},
   "source": [
    "## 1. HTML Structure"
   ]
  },
  {
   "cell_type": "markdown",
   "id": "d167e4a7-5fbe-43cb-8c02-bc47b9dac776",
   "metadata": {},
   "source": [
    "__<p>HTML is the standard language for creating web pages. It uses a series of elements represented by tags, like this: </p>__"
   ]
  },
  {
   "cell_type": "markdown",
   "id": "21bf77b6-3945-49cb-bcea-ff13104e0388",
   "metadata": {},
   "source": [
    "```\n",
    "<!DOCTYPE html>\n",
    "<html>\n",
    "    <head>\n",
    "        <title>Page Title</title>\n",
    "    </head>\n",
    "    <body>\n",
    "        <h1>This is a Heading</h1>\n",
    "        <p>This is a paragraph.</p>\n",
    "    </body>\n",
    "</html>"
   ]
  },
  {
   "cell_type": "markdown",
   "id": "43728aec-d273-4fdb-bbf7-45d8600775dd",
   "metadata": {},
   "source": [
    "### Key Elements"
   ]
  },
  {
   "cell_type": "markdown",
   "id": "3dcd9e60-1d83-484c-913b-e12e7b74998c",
   "metadata": {},
   "source": [
    "```\n",
    "<<!DOCTYPE html> Declares the document as HTML5.\n",
    "\n",
    "<html> The root element of the HTML document.\n",
    "\n",
    "<head> Contains meta-information about the document (e.g., title, links to stylesheets).\n",
    "\n",
    "<body> Contains the content of the document.\n",
    "```"
   ]
  },
  {
   "cell_type": "markdown",
   "id": "a93a0eee-b75b-4891-acad-54cab93357cf",
   "metadata": {},
   "source": [
    "### __2. Common HTML Tags__"
   ]
  },
  {
   "cell_type": "markdown",
   "id": "90d14922-0b55-4bb2-9d04-af8d2556d6bd",
   "metadata": {},
   "source": []
  },
  {
   "cell_type": "markdown",
   "id": "c2dc87c6-222b-45b6-b1df-14b8da102220",
   "metadata": {},
   "source": [
    "(https://www.thesafaricollection.com/wp-content/uploads/2022/07/The-Safari-Collection-Hey-You-Giraffe-Manor-1.jpg)"
   ]
  },
  {
   "cell_type": "markdown",
   "id": "1e9e3859-60aa-4c5a-a1bf-5a6e53db40cc",
   "metadata": {},
   "source": []
  }
 ],
 "metadata": {
  "kernelspec": {
   "display_name": "Python 3 (ipykernel)",
   "language": "python",
   "name": "python3"
  },
  "language_info": {
   "codemirror_mode": {
    "name": "ipython",
    "version": 3
   },
   "file_extension": ".py",
   "mimetype": "text/x-python",
   "name": "python",
   "nbconvert_exporter": "python",
   "pygments_lexer": "ipython3",
   "version": "3.12.1"
  }
 },
 "nbformat": 4,
 "nbformat_minor": 5
}
